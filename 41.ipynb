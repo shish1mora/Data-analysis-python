{
 "cells": [
  {
   "cell_type": "code",
   "execution_count": 1,
   "id": "12089c7d-6fcc-49c3-95eb-ebdd9a9cf9a6",
   "metadata": {},
   "outputs": [
    {
     "name": "stdout",
     "output_type": "stream",
     "text": [
      "Общее количество наблюдений\n"
     ]
    },
    {
     "data": {
      "text/plain": [
       "20058"
      ]
     },
     "metadata": {},
     "output_type": "display_data"
    }
   ],
   "source": [
    "import pandas as pd\n",
    "import numpy as np\n",
    "read = (\"Z:/Chess.csv\")\n",
    "chess = pd.read_csv(read)\n",
    "print(\"Общее количество наблюдений\")\n",
    "display(chess.shape[0])\n",
    "\n",
    "chess = chess.query(\"white_rating >= black_rating - 100\")\n",
    "chess = chess.query(\"white_rating <= black_rating + 100\")"
   ]
  },
  {
   "cell_type": "code",
   "execution_count": 2,
   "id": "3efe1cef-b35b-479b-979f-877e948a1560",
   "metadata": {},
   "outputs": [
    {
     "name": "stdout",
     "output_type": "stream",
     "text": [
      "Полученное количество наблюдений\n"
     ]
    },
    {
     "data": {
      "text/plain": [
       "9162"
      ]
     },
     "metadata": {},
     "output_type": "display_data"
    },
    {
     "name": "stdout",
     "output_type": "stream",
     "text": [
      "Количество белых фигур\n"
     ]
    },
    {
     "data": {
      "text/plain": [
       "4504"
      ]
     },
     "metadata": {},
     "output_type": "display_data"
    },
    {
     "name": "stdout",
     "output_type": "stream",
     "text": [
      "Количество черных фигур\n"
     ]
    },
    {
     "data": {
      "text/plain": [
       "4168"
      ]
     },
     "metadata": {},
     "output_type": "display_data"
    },
    {
     "name": "stdout",
     "output_type": "stream",
     "text": [
      "Количество черных ничьих\n"
     ]
    },
    {
     "data": {
      "text/plain": [
       "490"
      ]
     },
     "metadata": {},
     "output_type": "display_data"
    }
   ],
   "source": [
    "print(\"Полученное количество наблюдений\")\n",
    "display(chess.shape[0])\n",
    "\n",
    "whitewin = chess.query(\"winner == 'white'\")\n",
    "print(\"Количество белых фигур\")\n",
    "display(whitewin.shape[0])\n",
    "\n",
    "blackwin = chess.query(\"winner == 'black'\")\n",
    "print(\"Количество черных фигур\")\n",
    "display(blackwin.shape[0])\n",
    "\n",
    "drawwin = chess.query(\"winner == 'draw'\")\n",
    "print(\"Количество черных ничьих\")\n",
    "display(drawwin.shape[0])"
   ]
  },
  {
   "cell_type": "code",
   "execution_count": 3,
   "id": "b6dc4e1e-c17f-4f05-99b7-1ba38ec0ffdf",
   "metadata": {},
   "outputs": [
    {
     "name": "stdout",
     "output_type": "stream",
     "text": [
      "Вид победителя, дебюта и количества побед\n",
      "    winner basic_opening_clean  number_of_wins\n",
      "117  black    Sicilian Defense             591\n",
      "340  white    Sicilian Defense             573\n",
      "255  white      French Defense             309\n",
      "41   black      French Defense             283\n",
      "102  black   Queen's Pawn Game             223\n",
      "..     ...                 ...             ...\n",
      "215  white   Alekhine Defense                1\n",
      "212   draw        Ware Opening               1\n",
      "60   black      King's Indian                1\n",
      "209   draw    Van Geet Opening               1\n",
      "180   draw   Petrov's Defense                1\n",
      "\n",
      "[361 rows x 3 columns]\n"
     ]
    }
   ],
   "source": [
    "split_name = chess['opening_name'].str.split(':')\n",
    "chess['basic_opening'] = split_name.str[0]\n",
    "chess['variation_detail'] = split_name.str[1]\n",
    "\n",
    "split_basic = chess['basic_opening'].str.split('#')\n",
    "chess['basic_opening_no_numerical'] = split_basic.str[0]\n",
    "chess['numerical_characters'] = split_basic.str[1]\n",
    "\n",
    "split_basic_clean = chess['basic_opening_no_numerical'].str.split('|')\n",
    "chess['basic_opening_clean'] = split_basic_clean.str[0]\n",
    "chess['basic_variation'] = split_basic_clean.str[1]\n",
    "\n",
    "grouped = chess.groupby(['winner', 'basic_opening_clean'])\n",
    "result = grouped.size().reset_index(name='number_of_wins').sort_values(by='number_of_wins', ascending=False)\n",
    "print('Вид победителя, дебюта и количества побед')\n",
    "print(result)"
   ]
  },
  {
   "cell_type": "code",
   "execution_count": 4,
   "id": "9efd6168-12e0-45d2-ab23-c995f541d35a",
   "metadata": {},
   "outputs": [
    {
     "name": "stdout",
     "output_type": "stream",
     "text": [
      "Отображение наиболее результативных комбинаций по убыванию количества побед\n",
      "    basic_opening_clean  number_of_wins\n",
      "135    Sicilian Defense            1233\n",
      "46       French Defense             621\n",
      "118   Queen's Pawn Game             469\n",
      "61         Italian Game             458\n",
      "75     King's Pawn Game             441\n"
     ]
    }
   ],
   "source": [
    "grouped = result.groupby('basic_opening_clean')\n",
    "popular_openings = grouped['number_of_wins'].sum().reset_index(name='number_of_wins')\n",
    "popular_openings_sorted = popular_openings.sort_values(by='number_of_wins', ascending=False)\n",
    "most_popular_openings = popular_openings_sorted.nlargest(5, 'number_of_wins').sort_values(by='number_of_wins', ascending=False)\n",
    "print('Отображение наиболее результативных комбинаций по убыванию количества побед')\n",
    "print(most_popular_openings)\n"
   ]
  },
  {
   "cell_type": "code",
   "execution_count": null,
   "id": "793dee3e-33f2-4c5a-8abb-299f58542d11",
   "metadata": {},
   "outputs": [],
   "source": []
  },
  {
   "cell_type": "code",
   "execution_count": null,
   "id": "18bb6f0e-60ad-449b-8500-b86046b9bd90",
   "metadata": {},
   "outputs": [],
   "source": []
  }
 ],
 "metadata": {
  "kernelspec": {
   "display_name": "Python 3 (ipykernel)",
   "language": "python",
   "name": "python3"
  },
  "language_info": {
   "codemirror_mode": {
    "name": "ipython",
    "version": 3
   },
   "file_extension": ".py",
   "mimetype": "text/x-python",
   "name": "python",
   "nbconvert_exporter": "python",
   "pygments_lexer": "ipython3",
   "version": "3.12.2"
  }
 },
 "nbformat": 4,
 "nbformat_minor": 5
}
