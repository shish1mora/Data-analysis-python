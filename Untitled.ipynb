{
 "cells": [
  {
   "cell_type": "code",
   "execution_count": 1,
   "id": "e83b3bbb-4304-4d7f-ac42-095482282e5c",
   "metadata": {},
   "outputs": [
    {
     "name": "stdin",
     "output_type": "stream",
     "text": [
      "Введите строку:  aaaaassssss\n",
      "Введите символ:  s\n"
     ]
    },
    {
     "name": "stdout",
     "output_type": "stream",
     "text": [
      "Количество символов 's' в строке: 6\n"
     ]
    }
   ],
   "source": [
    "def search_substr(subst, sm):\n",
    "    count = subst.lower().count(sm.lower())\n",
    "    return count\n",
    "\n",
    "subst = input(\"Введите строку: \")\n",
    "sm = input(\"Введите символ: \")\n",
    "\n",
    "result = search_substr(subst, sm)\n",
    "print(f\"Количество символов '{sm}' в строке: {result}\")\n"
   ]
  },
  {
   "cell_type": "code",
   "execution_count": null,
   "id": "4fef2c07-9738-4619-abf0-d28e476c0959",
   "metadata": {},
   "outputs": [],
   "source": [
    "580\n"
   ]
  },
  {
   "cell_type": "code",
   "execution_count": 2,
   "id": "03587250-7263-48cd-b0e2-3a086b8cc2f0",
   "metadata": {},
   "outputs": [
    {
     "name": "stdin",
     "output_type": "stream",
     "text": [
      "Введите строку:  letter\n",
      "Введите первую букву:  e\n",
      "Введите вторую букву:  t\n"
     ]
    },
    {
     "name": "stdout",
     "output_type": "stream",
     "text": [
      "Индексы первого и предпоследнего вхождения букв:\n",
      "Первая буква 'e': 1, 4\n",
      "Вторая буква 't': 2, 3\n"
     ]
    }
   ],
   "source": [
    "def find_indices(subst, letter1, letter2):\n",
    "    first_index1 = subst.find(letter1)\n",
    "    last_index1 = subst.rfind(letter1)\n",
    "    \n",
    "    first_index2 = subst.find(letter2)\n",
    "    last_index2 = subst.rfind(letter2)\n",
    "    \n",
    "    return (first_index1, last_index1, first_index2, last_index2)\n",
    "\n",
    "subst = input(\"Введите строку: \")\n",
    "letter1 = input(\"Введите первую букву: \")\n",
    "letter2 = input(\"Введите вторую букву: \")\n",
    "\n",
    "result = find_indices(subst, letter1, letter2)\n",
    "print(f\"Индексы первого и предпоследнего вхождения букв:\")\n",
    "print(f\"Первая буква '{letter1}': {result[0]}, {result[1]}\")\n",
    "print(f\"Вторая буква '{letter2}': {result[2]}, {result[3]}\")\n"
   ]
  },
  {
   "cell_type": "code",
   "execution_count": 3,
   "id": "743f82a8-a402-4bda-807c-0d87e5485530",
   "metadata": {},
   "outputs": [
    {
     "name": "stdout",
     "output_type": "stream",
     "text": [
      "Наиболее часто встречающиеся слова:\n",
      "пины: 3 раз(а)\n",
      "всегда: 2 раз(а)\n"
     ]
    }
   ],
   "source": [
    "from collections import Counter\n",
    "import re\n",
    "\n",
    "def find_top_words(text, n=2):\n",
    "    words = re.findall(r'\\b\\w{3,}\\b', text.lower())\n",
    "    word_counts = Counter(words)\n",
    "    top_words = word_counts.most_common(n)\n",
    "    return top_words\n",
    "\n",
    "text = \"\"\" ПИНы всегда лучшие, ПИНы всегда, ПИНы......\"\"\"\n",
    "\n",
    "top_words = find_top_words(text)\n",
    "print(f\"Наиболее часто встречающиеся слова:\")\n",
    "for word, count in top_words:\n",
    "    print(f\"{word}: {count} раз(а)\")\n"
   ]
  },
  {
   "cell_type": "code",
   "execution_count": 4,
   "id": "454e5a09-363c-419c-b708-8fb8ba28d915",
   "metadata": {},
   "outputs": [
    {
     "name": "stdout",
     "output_type": "stream",
     "text": [
      "Анализ первого текста:\n",
      "Знаков препинания: 2\n",
      "Слов: 9\n",
      "Предложений: 2\n",
      "\n",
      "Анализ второго текста:\n",
      "Знаков препинания: 2\n",
      "Слов: 10\n",
      "Предложений: 1\n",
      "\n",
      "Второй текст содержит больше слов.\n",
      "Первый текст содержит больше предложений.\n"
     ]
    }
   ],
   "source": [
    "import string\n",
    "\n",
    "def analyze_text(text):\n",
    "    punctuation_count = sum(1 for char in text if char in string.punctuation)\n",
    "    words = text.split()\n",
    "    word_count = len(words)\n",
    "    sentences = text.split('.')\n",
    "    sentence_count = len(sentences) - 1  \n",
    "    \n",
    "    return punctuation_count, word_count, sentence_count\n",
    "\n",
    "text1 = \"Первый текст для анализа. Содержит знаки препинания и слова.\"\n",
    "text2 = \"Второй текст для сравнения. Также содержит знаки препинания и слова!\"\n",
    "\n",
    "punctuation_count1, word_count1, sentence_count1 = analyze_text(text1)\n",
    "punctuation_count2, word_count2, sentence_count2 = analyze_text(text2)\n",
    "\n",
    "print(\"Анализ первого текста:\")\n",
    "print(f\"Знаков препинания: {punctuation_count1}\")\n",
    "print(f\"Слов: {word_count1}\")\n",
    "print(f\"Предложений: {sentence_count1}\")\n",
    "\n",
    "print(\"\\nАнализ второго текста:\")\n",
    "print(f\"Знаков препинания: {punctuation_count2}\")\n",
    "print(f\"Слов: {word_count2}\")\n",
    "print(f\"Предложений: {sentence_count2}\")\n",
    "\n",
    "if word_count1 > word_count2:\n",
    "    print(\"\\nПервый текст содержит больше слов.\")\n",
    "elif word_count2 > word_count1:\n",
    "    print(\"\\nВторой текст содержит больше слов.\")\n",
    "else:\n",
    "    print(\"\\nКоличество слов в обоих текстах одинаково.\")\n",
    "\n",
    "if sentence_count1 > sentence_count2:\n",
    "    print(\"Первый текст содержит больше предложений.\")\n",
    "elif sentence_count2 > sentence_count1:\n",
    "    print(\"Второй текст содержит больше предложений.\")\n",
    "else:\n",
    "    print(\"Количество предложений в обоих текстах одинаково.\")\n"
   ]
  },
  {
   "cell_type": "code",
   "execution_count": 5,
   "id": "553357fe-cc91-48b6-bd5f-4404d8220a34",
   "metadata": {},
   "outputs": [
    {
     "name": "stdout",
     "output_type": "stream",
     "text": [
      "Исходный текст:\n",
      "Пример текста для кодирования\n",
      "\n",
      "Словарь символов и их вхождений:\n",
      "П: 1\n",
      "р: 3\n",
      "и: 3\n",
      "м: 1\n",
      "е: 2\n",
      " : 3\n",
      "т: 2\n",
      "к: 2\n",
      "с: 1\n",
      "а: 2\n",
      "д: 2\n",
      "л: 1\n",
      "я: 2\n",
      "о: 2\n",
      "в: 1\n",
      "н: 1\n",
      "\n",
      "Закодированный текст:\n",
      "П1088и1084е1088 1090е1082с1090а32д1083я32к1086д1080р1086в1072н1080я\n"
     ]
    }
   ],
   "source": [
    "def count_characters(text):\n",
    "    char_count = {}\n",
    "    for char in text:\n",
    "        if char in char_count:\n",
    "            char_count[char] += 1\n",
    "        else:\n",
    "            char_count[char] = 1\n",
    "    return char_count\n",
    "\n",
    "def encode_text(text):\n",
    "    encoded_text = \"\"\n",
    "    for i, char in enumerate(text):\n",
    "        if i % 2 == 0:  \n",
    "            encoded_text += char\n",
    "        else:\n",
    "            encoded_text += str(ord(char))  \n",
    "    return encoded_text\n",
    "\n",
    "text = \"Пример текста для кодирования\"\n",
    "char_count = count_characters(text)\n",
    "encoded_text = encode_text(text)\n",
    "\n",
    "print(\"Исходный текст:\")\n",
    "print(text)\n",
    "\n",
    "print(\"\\nСловарь символов и их вхождений:\")\n",
    "for char, count in char_count.items():\n",
    "    print(f\"{char}: {count}\")\n",
    "\n",
    "print(\"\\nЗакодированный текст:\")\n",
    "print(encoded_text)\n"
   ]
  },
  {
   "cell_type": "code",
   "execution_count": null,
   "id": "a8c9b98b-f159-4967-a7dc-b46fee46590c",
   "metadata": {},
   "outputs": [],
   "source": []
  }
 ],
 "metadata": {
  "kernelspec": {
   "display_name": "Python 3 (ipykernel)",
   "language": "python",
   "name": "python3"
  },
  "language_info": {
   "codemirror_mode": {
    "name": "ipython",
    "version": 3
   },
   "file_extension": ".py",
   "mimetype": "text/x-python",
   "name": "python",
   "nbconvert_exporter": "python",
   "pygments_lexer": "ipython3",
   "version": "3.12.2"
  }
 },
 "nbformat": 4,
 "nbformat_minor": 5
}
